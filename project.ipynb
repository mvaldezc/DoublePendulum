{
 "cells": [
  {
   "cell_type": "code",
   "execution_count": 1,
   "metadata": {},
   "outputs": [],
   "source": [
    "%load_ext autoreload\n",
    "%autoreload 2"
   ]
  },
  {
   "cell_type": "code",
   "execution_count": 2,
   "metadata": {},
   "outputs": [],
   "source": [
    "import gymnasium as gym\n",
    "import numpy as np\n",
    "import matplotlib.pyplot as plt\n",
    "from tqdm.notebook import tqdm\n",
    "from numpngw import write_apng\n",
    "from IPython.display import Image\n",
    "from pendulum import *"
   ]
  },
  {
   "cell_type": "code",
   "execution_count": 6,
   "metadata": {},
   "outputs": [
    {
     "name": "stderr",
     "output_type": "stream",
     "text": [
      "Exception ignored on calling ctypes callback function: <function _handle_glfw_errors at 0x7fcc820fd040>\n",
      "Traceback (most recent call last):\n",
      "  File \"/home/mdlrios/.local/lib/python3.8/site-packages/glfw/__init__.py\", line 661, in callback_wrapper\n",
      "    @functools.wraps(func)\n",
      "KeyboardInterrupt: \n",
      "/home/mdlrios/.local/lib/python3.8/site-packages/glfw/__init__.py:916: GLFWError: (65537) b'The GLFW library is not initialized'\n",
      "  warnings.warn(message, GLFWError)\n"
     ]
    },
    {
     "ename": "FatalError",
     "evalue": "an OpenGL platform library has not been loaded into this process, this most likely means that a valid OpenGL context has not been created before mjr_makeContext was called",
     "output_type": "error",
     "traceback": [
      "\u001b[0;31m---------------------------------------------------------------------------\u001b[0m",
      "\u001b[0;31mFatalError\u001b[0m                                Traceback (most recent call last)",
      "Cell \u001b[0;32mIn[6], line 5\u001b[0m\n\u001b[1;32m      2\u001b[0m env\u001b[39m.\u001b[39mreset()\n\u001b[1;32m      4\u001b[0m frames \u001b[39m=\u001b[39m []  \u001b[39m# frames to create animated png\u001b[39;00m\n\u001b[0;32m----> 5\u001b[0m frames\u001b[39m.\u001b[39mappend(env\u001b[39m.\u001b[39;49mrender())\n\u001b[1;32m      6\u001b[0m \u001b[39mfor\u001b[39;00m i \u001b[39min\u001b[39;00m tqdm(\u001b[39mrange\u001b[39m(\u001b[39m100\u001b[39m)):\n\u001b[1;32m      7\u001b[0m     action \u001b[39m=\u001b[39m env\u001b[39m.\u001b[39maction_space\u001b[39m.\u001b[39msample()\n",
      "File \u001b[0;32m~/.local/lib/python3.8/site-packages/gymnasium/core.py:418\u001b[0m, in \u001b[0;36mWrapper.render\u001b[0;34m(self)\u001b[0m\n\u001b[1;32m    416\u001b[0m \u001b[39mdef\u001b[39;00m \u001b[39mrender\u001b[39m(\u001b[39mself\u001b[39m) \u001b[39m-\u001b[39m\u001b[39m>\u001b[39m RenderFrame \u001b[39m|\u001b[39m \u001b[39mlist\u001b[39m[RenderFrame] \u001b[39m|\u001b[39m \u001b[39mNone\u001b[39;00m:\n\u001b[1;32m    417\u001b[0m \u001b[39m    \u001b[39m\u001b[39m\"\"\"Uses the :meth:`render` of the :attr:`env` that can be overwritten to change the returned data.\"\"\"\u001b[39;00m\n\u001b[0;32m--> 418\u001b[0m     \u001b[39mreturn\u001b[39;00m \u001b[39mself\u001b[39;49m\u001b[39m.\u001b[39;49menv\u001b[39m.\u001b[39;49mrender()\n",
      "File \u001b[0;32m~/.local/lib/python3.8/site-packages/gymnasium/wrappers/order_enforcing.py:70\u001b[0m, in \u001b[0;36mOrderEnforcing.render\u001b[0;34m(self, *args, **kwargs)\u001b[0m\n\u001b[1;32m     65\u001b[0m \u001b[39mif\u001b[39;00m \u001b[39mnot\u001b[39;00m \u001b[39mself\u001b[39m\u001b[39m.\u001b[39m_disable_render_order_enforcing \u001b[39mand\u001b[39;00m \u001b[39mnot\u001b[39;00m \u001b[39mself\u001b[39m\u001b[39m.\u001b[39m_has_reset:\n\u001b[1;32m     66\u001b[0m     \u001b[39mraise\u001b[39;00m ResetNeeded(\n\u001b[1;32m     67\u001b[0m         \u001b[39m\"\u001b[39m\u001b[39mCannot call `env.render()` before calling `env.reset()`, if this is a intended action, \u001b[39m\u001b[39m\"\u001b[39m\n\u001b[1;32m     68\u001b[0m         \u001b[39m\"\u001b[39m\u001b[39mset `disable_render_order_enforcing=True` on the OrderEnforcer wrapper.\u001b[39m\u001b[39m\"\u001b[39m\n\u001b[1;32m     69\u001b[0m     )\n\u001b[0;32m---> 70\u001b[0m \u001b[39mreturn\u001b[39;00m \u001b[39mself\u001b[39;49m\u001b[39m.\u001b[39;49menv\u001b[39m.\u001b[39;49mrender(\u001b[39m*\u001b[39;49margs, \u001b[39m*\u001b[39;49m\u001b[39m*\u001b[39;49mkwargs)\n",
      "File \u001b[0;32m~/.local/lib/python3.8/site-packages/gymnasium/wrappers/env_checker.py:63\u001b[0m, in \u001b[0;36mPassiveEnvChecker.render\u001b[0;34m(self, *args, **kwargs)\u001b[0m\n\u001b[1;32m     61\u001b[0m \u001b[39mif\u001b[39;00m \u001b[39mself\u001b[39m\u001b[39m.\u001b[39mchecked_render \u001b[39mis\u001b[39;00m \u001b[39mFalse\u001b[39;00m:\n\u001b[1;32m     62\u001b[0m     \u001b[39mself\u001b[39m\u001b[39m.\u001b[39mchecked_render \u001b[39m=\u001b[39m \u001b[39mTrue\u001b[39;00m\n\u001b[0;32m---> 63\u001b[0m     \u001b[39mreturn\u001b[39;00m env_render_passive_checker(\u001b[39mself\u001b[39;49m\u001b[39m.\u001b[39;49menv, \u001b[39m*\u001b[39;49margs, \u001b[39m*\u001b[39;49m\u001b[39m*\u001b[39;49mkwargs)\n\u001b[1;32m     64\u001b[0m \u001b[39melse\u001b[39;00m:\n\u001b[1;32m     65\u001b[0m     \u001b[39mreturn\u001b[39;00m \u001b[39mself\u001b[39m\u001b[39m.\u001b[39menv\u001b[39m.\u001b[39mrender(\u001b[39m*\u001b[39margs, \u001b[39m*\u001b[39m\u001b[39m*\u001b[39mkwargs)\n",
      "File \u001b[0;32m~/.local/lib/python3.8/site-packages/gymnasium/utils/passive_env_checker.py:391\u001b[0m, in \u001b[0;36menv_render_passive_checker\u001b[0;34m(env)\u001b[0m\n\u001b[1;32m    385\u001b[0m     \u001b[39melse\u001b[39;00m:\n\u001b[1;32m    386\u001b[0m         \u001b[39massert\u001b[39;00m env\u001b[39m.\u001b[39mrender_mode \u001b[39mis\u001b[39;00m \u001b[39mNone\u001b[39;00m \u001b[39mor\u001b[39;00m env\u001b[39m.\u001b[39mrender_mode \u001b[39min\u001b[39;00m render_modes, (\n\u001b[1;32m    387\u001b[0m             \u001b[39m\"\u001b[39m\u001b[39mThe environment was initialized successfully however with an unsupported render mode. \u001b[39m\u001b[39m\"\u001b[39m\n\u001b[1;32m    388\u001b[0m             \u001b[39mf\u001b[39m\u001b[39m\"\u001b[39m\u001b[39mRender mode: \u001b[39m\u001b[39m{\u001b[39;00menv\u001b[39m.\u001b[39mrender_mode\u001b[39m}\u001b[39;00m\u001b[39m, modes: \u001b[39m\u001b[39m{\u001b[39;00mrender_modes\u001b[39m}\u001b[39;00m\u001b[39m\"\u001b[39m\n\u001b[1;32m    389\u001b[0m         )\n\u001b[0;32m--> 391\u001b[0m result \u001b[39m=\u001b[39m env\u001b[39m.\u001b[39;49mrender()\n\u001b[1;32m    392\u001b[0m \u001b[39mif\u001b[39;00m env\u001b[39m.\u001b[39mrender_mode \u001b[39mis\u001b[39;00m \u001b[39mnot\u001b[39;00m \u001b[39mNone\u001b[39;00m:\n\u001b[1;32m    393\u001b[0m     _check_render_return(env\u001b[39m.\u001b[39mrender_mode, result)\n",
      "File \u001b[0;32m~/.local/lib/python3.8/site-packages/gymnasium/envs/mujoco/mujoco_env.py:379\u001b[0m, in \u001b[0;36mMujocoEnv.render\u001b[0;34m(self)\u001b[0m\n\u001b[1;32m    378\u001b[0m \u001b[39mdef\u001b[39;00m \u001b[39mrender\u001b[39m(\u001b[39mself\u001b[39m):\n\u001b[0;32m--> 379\u001b[0m     \u001b[39mreturn\u001b[39;00m \u001b[39mself\u001b[39;49m\u001b[39m.\u001b[39;49mmujoco_renderer\u001b[39m.\u001b[39;49mrender(\n\u001b[1;32m    380\u001b[0m         \u001b[39mself\u001b[39;49m\u001b[39m.\u001b[39;49mrender_mode, \u001b[39mself\u001b[39;49m\u001b[39m.\u001b[39;49mcamera_id, \u001b[39mself\u001b[39;49m\u001b[39m.\u001b[39;49mcamera_name\n\u001b[1;32m    381\u001b[0m     )\n",
      "File \u001b[0;32m~/.local/lib/python3.8/site-packages/gymnasium/envs/mujoco/mujoco_rendering.py:646\u001b[0m, in \u001b[0;36mMujocoRenderer.render\u001b[0;34m(self, render_mode, camera_id, camera_name)\u001b[0m\n\u001b[1;32m    629\u001b[0m \u001b[39mdef\u001b[39;00m \u001b[39mrender\u001b[39m(\n\u001b[1;32m    630\u001b[0m     \u001b[39mself\u001b[39m,\n\u001b[1;32m    631\u001b[0m     render_mode: \u001b[39mstr\u001b[39m,\n\u001b[1;32m    632\u001b[0m     camera_id: Optional[\u001b[39mint\u001b[39m] \u001b[39m=\u001b[39m \u001b[39mNone\u001b[39;00m,\n\u001b[1;32m    633\u001b[0m     camera_name: Optional[\u001b[39mstr\u001b[39m] \u001b[39m=\u001b[39m \u001b[39mNone\u001b[39;00m,\n\u001b[1;32m    634\u001b[0m ):\n\u001b[1;32m    635\u001b[0m \u001b[39m    \u001b[39m\u001b[39m\"\"\"Renders a frame of the simulation in a specific format and camera view.\u001b[39;00m\n\u001b[1;32m    636\u001b[0m \n\u001b[1;32m    637\u001b[0m \u001b[39m    Args:\u001b[39;00m\n\u001b[0;32m   (...)\u001b[0m\n\u001b[1;32m    643\u001b[0m \u001b[39m        If render_mode is \"rgb_array\" or \"depth_arra\" it returns a numpy array in the specified format. \"human\" render mode does not return anything.\u001b[39;00m\n\u001b[1;32m    644\u001b[0m \u001b[39m    \"\"\"\u001b[39;00m\n\u001b[0;32m--> 646\u001b[0m     viewer \u001b[39m=\u001b[39m \u001b[39mself\u001b[39;49m\u001b[39m.\u001b[39;49m_get_viewer(render_mode\u001b[39m=\u001b[39;49mrender_mode)\n\u001b[1;32m    648\u001b[0m     \u001b[39mif\u001b[39;00m render_mode \u001b[39min\u001b[39;00m {\n\u001b[1;32m    649\u001b[0m         \u001b[39m\"\u001b[39m\u001b[39mrgb_array\u001b[39m\u001b[39m\"\u001b[39m,\n\u001b[1;32m    650\u001b[0m         \u001b[39m\"\u001b[39m\u001b[39mdepth_array\u001b[39m\u001b[39m\"\u001b[39m,\n\u001b[1;32m    651\u001b[0m     }:\n\u001b[1;32m    652\u001b[0m         \u001b[39mif\u001b[39;00m camera_id \u001b[39mis\u001b[39;00m \u001b[39mnot\u001b[39;00m \u001b[39mNone\u001b[39;00m \u001b[39mand\u001b[39;00m camera_name \u001b[39mis\u001b[39;00m \u001b[39mnot\u001b[39;00m \u001b[39mNone\u001b[39;00m:\n",
      "File \u001b[0;32m~/.local/lib/python3.8/site-packages/gymnasium/envs/mujoco/mujoco_rendering.py:686\u001b[0m, in \u001b[0;36mMujocoRenderer._get_viewer\u001b[0;34m(self, render_mode)\u001b[0m\n\u001b[1;32m    683\u001b[0m     \u001b[39mself\u001b[39m\u001b[39m.\u001b[39mviewer \u001b[39m=\u001b[39m WindowViewer(\u001b[39mself\u001b[39m\u001b[39m.\u001b[39mmodel, \u001b[39mself\u001b[39m\u001b[39m.\u001b[39mdata)\n\u001b[1;32m    685\u001b[0m \u001b[39melif\u001b[39;00m render_mode \u001b[39min\u001b[39;00m {\u001b[39m\"\u001b[39m\u001b[39mrgb_array\u001b[39m\u001b[39m\"\u001b[39m, \u001b[39m\"\u001b[39m\u001b[39mdepth_array\u001b[39m\u001b[39m\"\u001b[39m}:\n\u001b[0;32m--> 686\u001b[0m     \u001b[39mself\u001b[39m\u001b[39m.\u001b[39mviewer \u001b[39m=\u001b[39m OffScreenViewer(\u001b[39mself\u001b[39;49m\u001b[39m.\u001b[39;49mmodel, \u001b[39mself\u001b[39;49m\u001b[39m.\u001b[39;49mdata)\n\u001b[1;32m    687\u001b[0m \u001b[39melse\u001b[39;00m:\n\u001b[1;32m    688\u001b[0m     \u001b[39mraise\u001b[39;00m \u001b[39mAttributeError\u001b[39;00m(\n\u001b[1;32m    689\u001b[0m         \u001b[39mf\u001b[39m\u001b[39m\"\u001b[39m\u001b[39mUnexpected mode: \u001b[39m\u001b[39m{\u001b[39;00mrender_mode\u001b[39m}\u001b[39;00m\u001b[39m, expected modes: human, rgb_array, or depth_array\u001b[39m\u001b[39m\"\u001b[39m\n\u001b[1;32m    690\u001b[0m     )\n",
      "File \u001b[0;32m~/.local/lib/python3.8/site-packages/gymnasium/envs/mujoco/mujoco_rendering.py:144\u001b[0m, in \u001b[0;36mOffScreenViewer.__init__\u001b[0;34m(self, model, data)\u001b[0m\n\u001b[1;32m    141\u001b[0m \u001b[39m# We must make GLContext before MjrContext\u001b[39;00m\n\u001b[1;32m    142\u001b[0m \u001b[39mself\u001b[39m\u001b[39m.\u001b[39m_get_opengl_backend(width, height)\n\u001b[0;32m--> 144\u001b[0m \u001b[39msuper\u001b[39;49m()\u001b[39m.\u001b[39;49m\u001b[39m__init__\u001b[39;49m(model, data, width, height)\n\u001b[1;32m    146\u001b[0m \u001b[39mself\u001b[39m\u001b[39m.\u001b[39m_init_camera()\n",
      "File \u001b[0;32m~/.local/lib/python3.8/site-packages/gymnasium/envs/mujoco/mujoco_rendering.py:61\u001b[0m, in \u001b[0;36mBaseRender.__init__\u001b[0;34m(self, model, data, width, height)\u001b[0m\n\u001b[1;32m     58\u001b[0m \u001b[39mself\u001b[39m\u001b[39m.\u001b[39mmake_context_current()\n\u001b[1;32m     60\u001b[0m \u001b[39m# Keep in Mujoco Context\u001b[39;00m\n\u001b[0;32m---> 61\u001b[0m \u001b[39mself\u001b[39m\u001b[39m.\u001b[39mcon \u001b[39m=\u001b[39m mujoco\u001b[39m.\u001b[39;49mMjrContext(\u001b[39mself\u001b[39;49m\u001b[39m.\u001b[39;49mmodel, mujoco\u001b[39m.\u001b[39;49mmjtFontScale\u001b[39m.\u001b[39;49mmjFONTSCALE_150)\n\u001b[1;32m     63\u001b[0m \u001b[39mself\u001b[39m\u001b[39m.\u001b[39m_set_mujoco_buffer()\n",
      "\u001b[0;31mFatalError\u001b[0m: an OpenGL platform library has not been loaded into this process, this most likely means that a valid OpenGL context has not been created before mjr_makeContext was called"
     ]
    }
   ],
   "source": [
    "env = gym.make('InvertedDoublePendulum-v4', render_mode='rgb_array')\n",
    "env.reset()\n",
    "\n",
    "frames = []  # frames to create animated png\n",
    "frames.append(env.render())\n",
    "for i in tqdm(range(100)):\n",
    "    action = env.action_space.sample()\n",
    "    s = env.step(action)\n",
    "    img = env.render()\n",
    "    frames.append(img)\n",
    "\n",
    "write_apng(\"cartpole_example.png\", frames, delay=10)\n",
    "Image(filename=\"cartpole_example.png\")\n"
   ]
  },
  {
   "cell_type": "code",
   "execution_count": null,
   "metadata": {},
   "outputs": [
    {
     "name": "stderr",
     "output_type": "stream",
     "text": [
      "Exception ignored on calling ctypes callback function: <function _handle_glfw_errors at 0x7fe4c934d280>\n",
      "Traceback (most recent call last):\n",
      "  File \"/home/mdlrios/.local/lib/python3.8/site-packages/glfw/__init__.py\", line 661, in callback_wrapper\n",
      "    @functools.wraps(func)\n",
      "KeyboardInterrupt: \n"
     ]
    },
    {
     "ename": "",
     "evalue": "",
     "output_type": "error",
     "traceback": [
      "\u001b[1;31mCanceled future for execute_request message before replies were done"
     ]
    },
    {
     "ename": "",
     "evalue": "",
     "output_type": "error",
     "traceback": [
      "\u001b[1;31mThe Kernel crashed while executing code in the the current cell or a previous cell. Please review the code in the cell(s) to identify a possible cause of the failure. Click <a href='https://aka.ms/vscodeJupyterKernelCrash'>here</a> for more info. View Jupyter <a href='command:jupyter.viewOutput'>log</a> for further details."
     ]
    }
   ],
   "source": [
    "frames = []  # frames to create animated png\n",
    "frames.append(env.render())\n",
    "## Let's test to see if your analytic dynamics matches the simulator\n",
    "\n",
    "# first let's generate a random control sequence\n",
    "T = 50\n",
    "#control_sequence = np.random.randn(T, 1)\n",
    "control_sequence = np.zeros((T, 1))\n",
    "#start_state = np.array([1, 0.25, 0, 0])\n",
    "\n",
    "# We use the simulator to simulate a trajectory\n",
    "env = gym.make('InvertedDoublePendulum-v4', render_mode='rgb_array')\n",
    "start_state,_ = env.reset()\n",
    "#env.reset(start_state)\n",
    "\n",
    "states_mujoco = np.zeros((T+1, 8))\n",
    "states_mujoco[0] = start_state[:8]\n",
    "\n",
    "for t in range(T):\n",
    "    full_states_mujoco,_,_,_,_ = env.step(control_sequence[t])\n",
    "    states_mujoco[t+1] = full_states_mujoco[:8]\n",
    "    img = env.render()\n",
    "    frames.append(img)\n",
    "\n",
    "# Now we will use your analytic dynamics to simulate a trajectory\n",
    "# Need an extra 1 which is the batch dimension (T x B x 4)\n",
    "states_analytic = np.zeros((T+1, 1, 6))\n",
    "states_analytic[0] = change_of_coords(start_state) # torch.from_numpy(start_state).reshape(1, 4)\n",
    "for t in range(T):\n",
    "    #current_state = states_analytic[t]\n",
    "    #current_control = #torch.from_numpy(control_sequence[t]).reshape(1, 1)  # add batch dimension to control\n",
    "    states_analytic[t +1] = dynamics_analytic(states_analytic[t], control_sequence[t])\n",
    "    #print(dynamics_analytic(states_analytic[t], control_sequence[t]).shape)\n",
    "\n",
    "# convert back to numpy for plotting\n",
    "states_analytic = states_analytic.reshape(T+1, 6)\n",
    "\n",
    "# convert mujoco states to analytic states\n",
    "states_mujoco_transformed = T_change_of_coords(states_mujoco)\n",
    "\n",
    "# Plot and compare - They should be indistinguishable\n",
    "fig, axes = plt.subplots(2, 3, figsize=(8, 8))\n",
    "\n",
    "axes[0][0].plot(states_analytic[:30, 0], label='analytic')\n",
    "axes[0][0].plot(states_mujoco_transformed[:, 0], '--', label='mujoco')\n",
    "axes[0][0].title.set_text('x')\n",
    "\n",
    "axes[0][1].plot(states_analytic[:30, 1])\n",
    "axes[0][1].plot(states_mujoco_transformed[:, 1], '--')\n",
    "axes[0][1].title.set_text('theta1')\n",
    "\n",
    "axes[0][2].plot(states_analytic[:30, 2])\n",
    "axes[0][2].plot(states_mujoco_transformed[:, 2], '--')\n",
    "axes[0][2].title.set_text('theta2')\n",
    "\n",
    "axes[1][0].plot(states_analytic[:30, 3])\n",
    "axes[1][0].plot(states_mujoco_transformed[:, 3], '--')\n",
    "axes[1][0].title.set_text('x_dot')\n",
    "\n",
    "axes[1][1].plot(states_analytic[:30, 4])\n",
    "axes[1][1].plot(states_mujoco_transformed[:, 4], '--')\n",
    "axes[1][1].title.set_text('theta1_dot')\n",
    "\n",
    "axes[1][2].plot(states_analytic[:30, 5])\n",
    "axes[1][2].plot(states_mujoco_transformed[:, 5], '--')\n",
    "axes[1][2].title.set_text('theta2_dot')\n",
    "\n",
    "axes[0][0].legend()\n",
    "plt.show()\n",
    "\n",
    "write_apng(\"cartpole_example.png\", frames, delay=10)\n",
    "Image(filename=\"cartpole_example.png\")\n"
   ]
  },
  {
   "cell_type": "code",
   "execution_count": 59,
   "metadata": {},
   "outputs": [
    {
     "name": "stdout",
     "output_type": "stream",
     "text": [
      "[ 0.         10.47197551  4.19873858  4.19873858]\n",
      "[[4.0e+01 4.0e+01 4.0e+01]\n",
      " [2.0e-02 1.0e+00 0.0e+00]\n",
      " [1.0e-01 1.0e-01 0.0e+00]\n",
      " [4.5e-02 3.0e-01 0.0e+00]\n",
      " [4.5e-02 3.0e-01 0.0e+00]]\n",
      "[[0.  0.  0. ]\n",
      " [0.  0.  0. ]\n",
      " [0.  0.  0.3]\n",
      " [0.  0.  0.3]]\n",
      "1\n",
      "2\n",
      "3\n",
      "[0.05 0.05 0.05]\n",
      "0.01\n",
      "[ 1.00e-05  0.00e+00 -9.81e+00]\n"
     ]
    }
   ],
   "source": [
    "# Get properties of the pendulum\n",
    "\n",
    "import mujoco\n",
    "env = gym.make('InvertedDoublePendulum-v4', render_mode='rgb_array')\n",
    "env.reset()\n",
    "m = env.model.body_mass\n",
    "l = env.model.geom_size\n",
    "lcm = env.model.body_ipos\n",
    "print(m)\n",
    "print(l)\n",
    "print(lcm)\n",
    "\n",
    "print(mujoco.mj_name2id(env.model, 1, 'cart'))\n",
    "print(mujoco.mj_name2id(env.model, 1, 'pole'))\n",
    "print(mujoco.mj_name2id(env.model, 1, 'pole2'))\n",
    "\n",
    "print(env.model.dof_damping)\n",
    "print(env.model.opt.timestep)\n",
    "print(env.model.opt.gravity)"
   ]
  },
  {
   "cell_type": "code",
   "execution_count": 9,
   "metadata": {},
   "outputs": [],
   "source": [
    "def get_methods(object, spacing=20):\n",
    "  methodList = []\n",
    "  for method_name in dir(object):\n",
    "    try:\n",
    "        if callable(getattr(object, method_name)):\n",
    "            methodList.append(str(method_name))\n",
    "    except Exception:\n",
    "        methodList.append(str(method_name))\n",
    "  processFunc = (lambda s: ' '.join(s.split())) or (lambda s: s)\n",
    "  for method in methodList:\n",
    "    try:\n",
    "        print(str(method.ljust(spacing)) + ' ' +\n",
    "              processFunc(str(getattr(object, method).__doc__)[0:90]))\n",
    "    except Exception:\n",
    "        print(method.ljust(spacing) + ' ' + ' getattr() failed')\n"
   ]
  },
  {
   "cell_type": "code",
   "execution_count": 10,
   "metadata": {},
   "outputs": [
    {
     "name": "stdout",
     "output_type": "stream",
     "text": [
      "<function unary_to_nary.<locals>.nary_operator.<locals>.nary_f at 0x7f81e425a430>\n"
     ]
    },
    {
     "ename": "TypeError",
     "evalue": "'function' object is not subscriptable",
     "output_type": "error",
     "traceback": [
      "\u001b[0;31m---------------------------------------------------------------------------\u001b[0m",
      "\u001b[0;31mTypeError\u001b[0m                                 Traceback (most recent call last)",
      "Cell \u001b[0;32mIn[10], line 12\u001b[0m\n\u001b[1;32m      7\u001b[0m xs_nom, us_nom \u001b[39m=\u001b[39m rollout_dynamics(T, init_state)\n\u001b[1;32m      8\u001b[0m \u001b[39m# print(f'{xs_nom.shape=}')\u001b[39;00m\n\u001b[1;32m      9\u001b[0m \u001b[39m# print(f'{us_nom.shape=}')\u001b[39;00m\n\u001b[1;32m     10\u001b[0m \n\u001b[1;32m     11\u001b[0m \u001b[39m# verify that we can linearize about a point \u001b[39;00m\n\u001b[0;32m---> 12\u001b[0m A_autograd, B_autograd \u001b[39m=\u001b[39m linearize_pytorch(np\u001b[39m.\u001b[39;49mzeros((\u001b[39m6\u001b[39;49m)), np\u001b[39m.\u001b[39;49mzeros((\u001b[39m1\u001b[39;49m)))\n\u001b[1;32m     13\u001b[0m \u001b[39m# A_autograd, B_autograd = linearize_pytorch(torch.zeros((6)), torch.zeros((1)))\u001b[39;00m\n\u001b[1;32m     15\u001b[0m \u001b[39mprint\u001b[39m(\u001b[39m'\u001b[39m\u001b[39mAutograd linearizations are \u001b[39m\u001b[39m'\u001b[39m)\n",
      "File \u001b[0;32m~/DoublePendulum/pendulum.py:166\u001b[0m, in \u001b[0;36mlinearize_pytorch\u001b[0;34m(state, control)\u001b[0m\n\u001b[1;32m    164\u001b[0m \u001b[39m# J = jacobian(dynamics_analytic)\u001b[39;00m\n\u001b[1;32m    165\u001b[0m \u001b[39mprint\u001b[39m(J)\n\u001b[0;32m--> 166\u001b[0m A \u001b[39m=\u001b[39m J[\u001b[39m0\u001b[39;49m]\u001b[39m.\u001b[39mreshape((\u001b[39m6\u001b[39m, \u001b[39m6\u001b[39m))\n\u001b[1;32m    167\u001b[0m B \u001b[39m=\u001b[39m J[\u001b[39m1\u001b[39m]\u001b[39m.\u001b[39mreshape((\u001b[39m6\u001b[39m, \u001b[39m1\u001b[39m))\n\u001b[1;32m    170\u001b[0m \u001b[39mreturn\u001b[39;00m A, B\n",
      "\u001b[0;31mTypeError\u001b[0m: 'function' object is not subscriptable"
     ]
    }
   ],
   "source": [
    "# perform rollouts to obtain the nominal state and control trajectories\n",
    "env = gym.make('InvertedDoublePendulum-v4', render_mode='rgb_array')\n",
    "start_state,_ = env.reset()\n",
    "T = 50\n",
    "\n",
    "init_state = start_state[:8].reshape(8,1)\n",
    "xs_nom, us_nom = rollout_dynamics(T, init_state)\n",
    "# print(f'{xs_nom.shape=}')\n",
    "# print(f'{us_nom.shape=}')\n",
    "\n",
    "# verify that we can linearize about a point \n",
    "A_autograd, B_autograd = linearize_pytorch(np.zeros((6)), np.zeros((1)))\n",
    "# A_autograd, B_autograd = linearize_pytorch(torch.zeros((6)), torch.zeros((1)))\n",
    "\n",
    "print('Autograd linearizations are ')\n",
    "print(A_autograd.shape)\n",
    "print(B_autograd.shape)"
   ]
  },
  {
   "cell_type": "code",
   "execution_count": null,
   "metadata": {},
   "outputs": [],
   "source": [
    "# linearize the nonlinear system about each point in the nominal trajectory\n"
   ]
  }
 ],
 "metadata": {
  "kernelspec": {
   "display_name": "base",
   "language": "python",
   "name": "python3"
  },
  "language_info": {
   "codemirror_mode": {
    "name": "ipython",
    "version": 3
   },
   "file_extension": ".py",
   "mimetype": "text/x-python",
   "name": "python",
   "nbconvert_exporter": "python",
   "pygments_lexer": "ipython3",
   "version": "3.9.7"
  },
  "orig_nbformat": 4
 },
 "nbformat": 4,
 "nbformat_minor": 2
}
